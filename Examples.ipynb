{
 "cells": [
  {
   "cell_type": "code",
   "execution_count": 5,
   "id": "252044f7",
   "metadata": {},
   "outputs": [],
   "source": [
    "from main import *\n",
    "from tests import * "
   ]
  },
  {
   "cell_type": "markdown",
   "id": "1b150f97",
   "metadata": {},
   "source": [
    "### Adding and Subtracting Matrices\n",
    "\n",
    "\\begin{equation}\n",
    "  A = \n",
    "  \\begin{bmatrix}\n",
    "    2 & 4 & 9 \\\\\n",
    "    3 & 2 & 1 \n",
    "  \\end{bmatrix}\n",
    "  B = \n",
    "    \\begin{bmatrix}\n",
    "    1 & 2 & 1 \\\\\n",
    "    3 & 1 & 2 \n",
    "  \\end{bmatrix}\n",
    "  \\label{eq:aeqn}\n",
    "\\end{equation}\n",
    "\n",
    "\n",
    "\n"
   ]
  },
  {
   "cell_type": "markdown",
   "id": "2df876a2",
   "metadata": {},
   "source": [
    "#### Addition:"
   ]
  },
  {
   "cell_type": "markdown",
   "id": "3004c7cc",
   "metadata": {},
   "source": [
    "\\begin{equation}\n",
    "  \\begin{bmatrix}\n",
    "    2 & 4 & 9 \\\\\n",
    "    3 & 2 & 1 \n",
    "  \\end{bmatrix} \n",
    "  +\n",
    "  \\begin{bmatrix}\n",
    "    1 & 2 & 1 \\\\\n",
    "    3 & 1 & 2 \n",
    "  \\end{bmatrix}\n",
    "  =\n",
    "  \\begin{bmatrix}\n",
    "    3 & 6 & 10 \\\\\n",
    "    6 & 3 & 3 \n",
    "  \\end{bmatrix}\n",
    "\\end{equation}\n",
    "\n"
   ]
  },
  {
   "cell_type": "code",
   "execution_count": 6,
   "id": "4998ec41",
   "metadata": {},
   "outputs": [
    {
     "data": {
      "text/plain": [
       "array([[ 3,  6, 10],\n",
       "       [ 6,  3,  3]])"
      ]
     },
     "execution_count": 6,
     "metadata": {},
     "output_type": "execute_result"
    }
   ],
   "source": [
    "addition(A, B)"
   ]
  },
  {
   "cell_type": "code",
   "execution_count": 7,
   "id": "43252504",
   "metadata": {},
   "outputs": [
    {
     "data": {
      "text/plain": [
       "array([[ 3,  6, 10],\n",
       "       [ 6,  3,  3]])"
      ]
     },
     "execution_count": 7,
     "metadata": {},
     "output_type": "execute_result"
    }
   ],
   "source": [
    "A+B"
   ]
  },
  {
   "cell_type": "markdown",
   "id": "6aa2eba3",
   "metadata": {},
   "source": [
    "#### Substraction:"
   ]
  },
  {
   "cell_type": "markdown",
   "id": "c19625d0",
   "metadata": {},
   "source": [
    "\\begin{equation}\n",
    "  \\begin{bmatrix}\n",
    "    2 & 4 & 9 \\\\\n",
    "    3 & 2 & 1 \n",
    "  \\end{bmatrix} \n",
    "  -\n",
    "  \\begin{bmatrix}\n",
    "    1 & 2 & 1 \\\\\n",
    "    3 & 1 & 2 \n",
    "  \\end{bmatrix}\n",
    "  =\n",
    "  \\begin{bmatrix}\n",
    "    1 & 2 & 8 \\\\\n",
    "    0 & 1 & -1 \n",
    "  \\end{bmatrix}\n",
    "\\end{equation}\n",
    "\n"
   ]
  },
  {
   "cell_type": "code",
   "execution_count": 8,
   "id": "b669c594",
   "metadata": {},
   "outputs": [
    {
     "data": {
      "text/plain": [
       "array([[ 1,  2,  8],\n",
       "       [ 0,  1, -1]])"
      ]
     },
     "execution_count": 8,
     "metadata": {},
     "output_type": "execute_result"
    }
   ],
   "source": [
    "substraction(A, B)"
   ]
  },
  {
   "cell_type": "markdown",
   "id": "5c0093e1",
   "metadata": {},
   "source": [
    "#### Determinant of a Matrix\n",
    "\n",
    "\\begin{equation}\n",
    "  C = \n",
    "  \\begin{bmatrix}\n",
    "    0 & 2 & 3 & 2 & 12 \\\\\n",
    "    0 & 4 & 1 & 1 & 2 \\\\\n",
    "    0 & 32 & 1 & 11 & 2 \\\\\n",
    "    0 & 4 & 2 & 11 & 1 \\\\\n",
    "    12 & 0 & 4 & 3 & 9 \\\\\n",
    "  \\end{bmatrix}\n",
    "  \\label{eq:aeqn}\n",
    "\\end{equation}"
   ]
  },
  {
   "cell_type": "markdown",
   "id": "3bd57f1e",
   "metadata": {},
   "source": [
    "\\begin{equation}\n",
    "det(C) = 23616\n",
    "\\end{equation}"
   ]
  },
  {
   "cell_type": "code",
   "execution_count": 9,
   "id": "3e337504",
   "metadata": {},
   "outputs": [
    {
     "data": {
      "text/plain": [
       "23616"
      ]
     },
     "execution_count": 9,
     "metadata": {},
     "output_type": "execute_result"
    }
   ],
   "source": [
    "det(C)"
   ]
  },
  {
   "cell_type": "markdown",
   "id": "6bf3c98c",
   "metadata": {},
   "source": [
    "#### Transpose"
   ]
  },
  {
   "cell_type": "code",
   "execution_count": 10,
   "id": "282cc6cd",
   "metadata": {},
   "outputs": [
    {
     "data": {
      "text/plain": [
       "array([[2, 3],\n",
       "       [4, 2],\n",
       "       [9, 1]])"
      ]
     },
     "execution_count": 10,
     "metadata": {},
     "output_type": "execute_result"
    }
   ],
   "source": [
    "transpose(A)"
   ]
  },
  {
   "cell_type": "markdown",
   "id": "1aef9df6",
   "metadata": {},
   "source": [
    "#### Identity matrix\n",
    "\n",
    "\\begin{equation}\n",
    "  D = \n",
    "  \\begin{bmatrix}\n",
    "    1 & 0 & 0  \\\\\n",
    "    0 & 1 & 0  \\\\\n",
    "    0 & 0 & 1 \n",
    "  \\end{bmatrix}\n",
    "  \\label{eq:aeqn}\n",
    "\\end{equation}"
   ]
  },
  {
   "cell_type": "code",
   "execution_count": 11,
   "id": "cdd966d4",
   "metadata": {},
   "outputs": [
    {
     "data": {
      "text/plain": [
       "True"
      ]
     },
     "execution_count": 11,
     "metadata": {},
     "output_type": "execute_result"
    }
   ],
   "source": [
    "is_identity(D)"
   ]
  },
  {
   "cell_type": "markdown",
   "id": "1fc48758",
   "metadata": {},
   "source": [
    "#### Product of Two Matrices"
   ]
  },
  {
   "cell_type": "code",
   "execution_count": 12,
   "id": "3dd54b33",
   "metadata": {},
   "outputs": [
    {
     "data": {
      "text/plain": [
       "array([[2, 4, 9],\n",
       "       [3, 2, 1]])"
      ]
     },
     "execution_count": 12,
     "metadata": {},
     "output_type": "execute_result"
    }
   ],
   "source": [
    "multiplication(A, D)"
   ]
  },
  {
   "cell_type": "markdown",
   "id": "fbc46bc9",
   "metadata": {},
   "source": [
    "####  Matrix cofactor"
   ]
  },
  {
   "cell_type": "markdown",
   "id": "381327e3",
   "metadata": {},
   "source": [
    "\\begin{equation}\n",
    "  E = \n",
    "  \\begin{bmatrix}\n",
    "    5 & 9 & 6  \\\\\n",
    "    7 & 2 & 7  \\\\\n",
    "    4 & 6 & 8 \n",
    "  \\end{bmatrix}\n",
    "  \\label{eq:aeqn}\n",
    "\\end{equation}"
   ]
  },
  {
   "cell_type": "code",
   "execution_count": 17,
   "id": "57be8526",
   "metadata": {},
   "outputs": [
    {
     "data": {
      "text/plain": [
       "-26"
      ]
     },
     "execution_count": 17,
     "metadata": {},
     "output_type": "execute_result"
    }
   ],
   "source": [
    "cofactor(E, 0, 0 )"
   ]
  },
  {
   "cell_type": "code",
   "execution_count": 18,
   "id": "e665e58f",
   "metadata": {},
   "outputs": [
    {
     "data": {
      "text/plain": [
       "array([[-26, -28,  34],\n",
       "       [-36,  16,   6],\n",
       "       [ 51,   7, -53]])"
      ]
     },
     "execution_count": 18,
     "metadata": {},
     "output_type": "execute_result"
    }
   ],
   "source": [
    "cofactor_matrix(E)"
   ]
  },
  {
   "cell_type": "markdown",
   "id": "7150d9fd",
   "metadata": {},
   "source": [
    "#### Adjugate matrix"
   ]
  },
  {
   "cell_type": "code",
   "execution_count": 19,
   "id": "1b273fa3",
   "metadata": {},
   "outputs": [
    {
     "data": {
      "text/plain": [
       "array([[-26, -36,  51],\n",
       "       [-28,  16,   7],\n",
       "       [ 34,   6, -53]])"
      ]
     },
     "execution_count": 19,
     "metadata": {},
     "output_type": "execute_result"
    }
   ],
   "source": [
    "adjugate_matrix(E)"
   ]
  },
  {
   "cell_type": "markdown",
   "id": "6013272a",
   "metadata": {},
   "source": [
    "#### Matrix trace"
   ]
  },
  {
   "cell_type": "code",
   "execution_count": 20,
   "id": "11f3fb1d",
   "metadata": {},
   "outputs": [
    {
     "data": {
      "text/plain": [
       "15"
      ]
     },
     "execution_count": 20,
     "metadata": {},
     "output_type": "execute_result"
    }
   ],
   "source": [
    "trace(E)"
   ]
  },
  {
   "cell_type": "markdown",
   "id": "8cf8a087",
   "metadata": {},
   "source": [
    "#### Inverse of a Matrix"
   ]
  },
  {
   "cell_type": "markdown",
   "id": "4590c48b",
   "metadata": {},
   "source": [
    "\\begin{equation}\n",
    "F =\n",
    "  \\begin{bmatrix}\n",
    "    1 & 2 & 3 & 1 \\\\\n",
    "    3 & 2 & 1 & 2 \\\\\n",
    "    1 & 2 & 1 & 3 \\\\\n",
    "    1 & 2 & 3 & 2\n",
    "  \\end{bmatrix}\n",
    "  \\label{eq:aeqn}\n",
    "\\end{equation}\n"
   ]
  },
  {
   "cell_type": "code",
   "execution_count": 21,
   "id": "d16ff5c7",
   "metadata": {},
   "outputs": [
    {
     "data": {
      "text/plain": [
       "array([[-0.5 ,  0.5 , -0.5 ,  0.5 ],\n",
       "       [ 2.  , -0.25,  1.  , -2.25],\n",
       "       [-0.5 ,  0.  , -0.5 ,  1.  ],\n",
       "       [-1.  ,  0.  ,  0.  ,  1.  ]])"
      ]
     },
     "execution_count": 21,
     "metadata": {},
     "output_type": "execute_result"
    }
   ],
   "source": [
    "inverse_matrix(F)"
   ]
  },
  {
   "cell_type": "code",
   "execution_count": 22,
   "id": "6a9a8360",
   "metadata": {},
   "outputs": [
    {
     "data": {
      "text/plain": [
       "array([[1., 0., 0., 0.],\n",
       "       [0., 1., 0., 0.],\n",
       "       [0., 0., 1., 0.],\n",
       "       [0., 0., 0., 1.]])"
      ]
     },
     "execution_count": 22,
     "metadata": {},
     "output_type": "execute_result"
    }
   ],
   "source": [
    "multiplication(inverse_matrix(F),F)"
   ]
  }
 ],
 "metadata": {
  "kernelspec": {
   "display_name": "Python 3",
   "language": "python",
   "name": "python3"
  },
  "language_info": {
   "codemirror_mode": {
    "name": "ipython",
    "version": 3
   },
   "file_extension": ".py",
   "mimetype": "text/x-python",
   "name": "python",
   "nbconvert_exporter": "python",
   "pygments_lexer": "ipython3",
   "version": "3.8.8"
  }
 },
 "nbformat": 4,
 "nbformat_minor": 5
}
